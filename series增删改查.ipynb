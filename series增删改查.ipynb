{
 "cells": [
  {
   "cell_type": "code",
   "execution_count": 1,
   "id": "f5467997",
   "metadata": {},
   "outputs": [],
   "source": [
    "import pandas as pd\n",
    "import numpy as np"
   ]
  },
  {
   "cell_type": "code",
   "execution_count": 27,
   "id": "fa9d24fa",
   "metadata": {
    "scrolled": true
   },
   "outputs": [
    {
     "name": "stdout",
     "output_type": "stream",
     "text": [
      "============================== 原Series ==============================\n",
      "A    hello pd.Series\n",
      "b                  1\n",
      "c                  2\n",
      "d                  3\n",
      "0                  4\n",
      "1                  5\n",
      "2                NaN\n",
      "3                  6\n",
      "6                  7\n",
      "5                NaN\n",
      "4          happy End\n",
      "Name: HelloSeries, dtype: object\n"
     ]
    },
    {
     "ename": "IndexError",
     "evalue": "iloc cannot enlarge its target object",
     "output_type": "error",
     "traceback": [
      "\u001b[1;31m---------------------------------------------------------------------------\u001b[0m",
      "\u001b[1;31mIndexError\u001b[0m                                Traceback (most recent call last)",
      "\u001b[1;32m<ipython-input-27-19b82447dca3>\u001b[0m in \u001b[0;36m<module>\u001b[1;34m\u001b[0m\n\u001b[0;32m      6\u001b[0m \u001b[1;33m\u001b[0m\u001b[0m\n\u001b[0;32m      7\u001b[0m \u001b[1;31m# 按照索引增加一个元素:\u001b[0m\u001b[1;33m\u001b[0m\u001b[1;33m\u001b[0m\u001b[1;33m\u001b[0m\u001b[0m\n\u001b[1;32m----> 8\u001b[1;33m \u001b[0mseries\u001b[0m\u001b[1;33m.\u001b[0m\u001b[0miloc\u001b[0m\u001b[1;33m[\u001b[0m\u001b[1;36m15\u001b[0m\u001b[1;33m]\u001b[0m \u001b[1;33m=\u001b[0m \u001b[1;34m'new_item'\u001b[0m\u001b[1;33m\u001b[0m\u001b[1;33m\u001b[0m\u001b[0m\n\u001b[0m\u001b[0;32m      9\u001b[0m \u001b[1;31m# series[0] = 'new_item'\u001b[0m\u001b[1;33m\u001b[0m\u001b[1;33m\u001b[0m\u001b[1;33m\u001b[0m\u001b[0m\n\u001b[0;32m     10\u001b[0m \u001b[0mprint\u001b[0m\u001b[1;33m(\u001b[0m\u001b[0mseries\u001b[0m\u001b[1;33m)\u001b[0m\u001b[1;33m\u001b[0m\u001b[1;33m\u001b[0m\u001b[0m\n",
      "\u001b[1;32mD:\\Software\\Anaconda\\anaconda\\lib\\site-packages\\pandas\\core\\indexing.py\u001b[0m in \u001b[0;36m__setitem__\u001b[1;34m(self, key, value)\u001b[0m\n\u001b[0;32m    687\u001b[0m             \u001b[0mkey\u001b[0m \u001b[1;33m=\u001b[0m \u001b[0mcom\u001b[0m\u001b[1;33m.\u001b[0m\u001b[0mapply_if_callable\u001b[0m\u001b[1;33m(\u001b[0m\u001b[0mkey\u001b[0m\u001b[1;33m,\u001b[0m \u001b[0mself\u001b[0m\u001b[1;33m.\u001b[0m\u001b[0mobj\u001b[0m\u001b[1;33m)\u001b[0m\u001b[1;33m\u001b[0m\u001b[1;33m\u001b[0m\u001b[0m\n\u001b[0;32m    688\u001b[0m         \u001b[0mindexer\u001b[0m \u001b[1;33m=\u001b[0m \u001b[0mself\u001b[0m\u001b[1;33m.\u001b[0m\u001b[0m_get_setitem_indexer\u001b[0m\u001b[1;33m(\u001b[0m\u001b[0mkey\u001b[0m\u001b[1;33m)\u001b[0m\u001b[1;33m\u001b[0m\u001b[1;33m\u001b[0m\u001b[0m\n\u001b[1;32m--> 689\u001b[1;33m         \u001b[0mself\u001b[0m\u001b[1;33m.\u001b[0m\u001b[0m_has_valid_setitem_indexer\u001b[0m\u001b[1;33m(\u001b[0m\u001b[0mkey\u001b[0m\u001b[1;33m)\u001b[0m\u001b[1;33m\u001b[0m\u001b[1;33m\u001b[0m\u001b[0m\n\u001b[0m\u001b[0;32m    690\u001b[0m \u001b[1;33m\u001b[0m\u001b[0m\n\u001b[0;32m    691\u001b[0m         \u001b[0miloc\u001b[0m \u001b[1;33m=\u001b[0m \u001b[0mself\u001b[0m \u001b[1;32mif\u001b[0m \u001b[0mself\u001b[0m\u001b[1;33m.\u001b[0m\u001b[0mname\u001b[0m \u001b[1;33m==\u001b[0m \u001b[1;34m\"iloc\"\u001b[0m \u001b[1;32melse\u001b[0m \u001b[0mself\u001b[0m\u001b[1;33m.\u001b[0m\u001b[0mobj\u001b[0m\u001b[1;33m.\u001b[0m\u001b[0miloc\u001b[0m\u001b[1;33m\u001b[0m\u001b[1;33m\u001b[0m\u001b[0m\n",
      "\u001b[1;32mD:\\Software\\Anaconda\\anaconda\\lib\\site-packages\\pandas\\core\\indexing.py\u001b[0m in \u001b[0;36m_has_valid_setitem_indexer\u001b[1;34m(self, indexer)\u001b[0m\n\u001b[0;32m   1399\u001b[0m             \u001b[1;32melif\u001b[0m \u001b[0mis_integer\u001b[0m\u001b[1;33m(\u001b[0m\u001b[0mi\u001b[0m\u001b[1;33m)\u001b[0m\u001b[1;33m:\u001b[0m\u001b[1;33m\u001b[0m\u001b[1;33m\u001b[0m\u001b[0m\n\u001b[0;32m   1400\u001b[0m                 \u001b[1;32mif\u001b[0m \u001b[0mi\u001b[0m \u001b[1;33m>=\u001b[0m \u001b[0mlen\u001b[0m\u001b[1;33m(\u001b[0m\u001b[0max\u001b[0m\u001b[1;33m)\u001b[0m\u001b[1;33m:\u001b[0m\u001b[1;33m\u001b[0m\u001b[1;33m\u001b[0m\u001b[0m\n\u001b[1;32m-> 1401\u001b[1;33m                     \u001b[1;32mraise\u001b[0m \u001b[0mIndexError\u001b[0m\u001b[1;33m(\u001b[0m\u001b[1;34m\"iloc cannot enlarge its target object\"\u001b[0m\u001b[1;33m)\u001b[0m\u001b[1;33m\u001b[0m\u001b[1;33m\u001b[0m\u001b[0m\n\u001b[0m\u001b[0;32m   1402\u001b[0m             \u001b[1;32melif\u001b[0m \u001b[0misinstance\u001b[0m\u001b[1;33m(\u001b[0m\u001b[0mi\u001b[0m\u001b[1;33m,\u001b[0m \u001b[0mdict\u001b[0m\u001b[1;33m)\u001b[0m\u001b[1;33m:\u001b[0m\u001b[1;33m\u001b[0m\u001b[1;33m\u001b[0m\u001b[0m\n\u001b[0;32m   1403\u001b[0m                 \u001b[1;32mraise\u001b[0m \u001b[0mIndexError\u001b[0m\u001b[1;33m(\u001b[0m\u001b[1;34m\"iloc cannot enlarge its target object\"\u001b[0m\u001b[1;33m)\u001b[0m\u001b[1;33m\u001b[0m\u001b[1;33m\u001b[0m\u001b[0m\n",
      "\u001b[1;31mIndexError\u001b[0m: iloc cannot enlarge its target object"
     ]
    }
   ],
   "source": [
    "series = pd.Series(['hello pd.Series', 1, 2, 3, 4, 5, np.nan, 6, 7, np.nan, 'happy End'], index=[\n",
    "                   'A', 'b', 'c', 'd', '0', '1', '2', '3', '6', '5','4'], name='HelloSeries')\n",
    "print('='*30,'原Series','='*30)\n",
    "print(series)\n",
    "\n",
    "\n",
    "# 按照索引增加一个元素:\n",
    "series.iloc[15] = 'new_item'\n",
    "# series[0] = 'new_item'\n",
    "print(series)"
   ]
  },
  {
   "cell_type": "code",
   "execution_count": 33,
   "id": "08397015",
   "metadata": {},
   "outputs": [
    {
     "name": "stdout",
     "output_type": "stream",
     "text": [
      "{'a': 1, 'b': 3, 'm': 4}\n",
      "4\n"
     ]
    }
   ],
   "source": [
    "dict ={'a':1,'b':3,'m':4}\n",
    "print(dict)\n",
    "print(dict['m'])"
   ]
  },
  {
   "cell_type": "code",
   "execution_count": 36,
   "id": "c52e69da",
   "metadata": {},
   "outputs": [
    {
     "name": "stdout",
     "output_type": "stream",
     "text": [
      "a    10.0\n",
      "b     NaN\n",
      "c     NaN\n",
      "d     NaN\n",
      "e     NaN\n",
      "dtype: float64\n",
      "a    0.1\n",
      "b    NaN\n",
      "c    NaN\n",
      "d    NaN\n",
      "e    NaN\n",
      "dtype: float64\n",
      "a    0.1\n",
      "b    NaN\n",
      "c    NaN\n",
      "d    NaN\n",
      "e    NaN\n",
      "dtype: float64\n"
     ]
    }
   ],
   "source": [
    "a = pd.Series([10, np.nan, 1, np.nan], index=['a', 'b', 'c', 'd'])\n"
   ]
  },
  {
   "cell_type": "code",
   "execution_count": 55,
   "id": "80959b22",
   "metadata": {},
   "outputs": [
    {
     "name": "stdout",
     "output_type": "stream",
     "text": [
      "============================== 原Series_1 ==============================\n",
      "A    hello pd.Series\n",
      "b                  1\n",
      "6                  5\n",
      "5                NaN\n",
      "4          happy End\n",
      "Name: HelloSeries, dtype: object\n",
      "========== 使用loc索引给Series_1增加一个新元素 ==========\n",
      "A            hello pd.Series\n",
      "b                          1\n",
      "6                          5\n",
      "5                        NaN\n",
      "4                  happy End\n",
      "new_index           new_item\n",
      "Name: HelloSeries, dtype: object\n"
     ]
    }
   ],
   "source": [
    "import pandas as pd\n",
    "import numpy as np\n",
    "\n",
    "series_1 = pd.Series(['hello pd.Series', 1, 5, np.nan, 'happy End'], index=[\n",
    "                   'A', 'b', '6', '5','4'], name='HelloSeries')\n",
    "print('='*30,'原Series_1','='*30)\n",
    "print(series_1)\n",
    "\n",
    "# 使用loc[index]进行增加一个元素，自动添加在尾部\n",
    "print('='*10,'使用loc索引给Series_1增加一个新元素','='*10)\n",
    "series_1.loc['new_index'] = 'new_item'\n",
    "print(series_1)"
   ]
  },
  {
   "cell_type": "code",
   "execution_count": 52,
   "id": "9e36f950",
   "metadata": {},
   "outputs": [
    {
     "name": "stdout",
     "output_type": "stream",
     "text": [
      "============================== 原Series_1 ==============================\n",
      "A    hello pd.Series\n",
      "b                  1\n",
      "6                  5\n",
      "5                NaN\n",
      "4          happy End\n",
      "Name: HelloSeries, dtype: object\n",
      "============================== 原Series_2 ==============================\n",
      "A    start\n",
      "b        1\n",
      "6        5\n",
      "5      NaN\n",
      "4      End\n",
      "Name: HelloSeries, dtype: object\n",
      "==================== 原Series_1添加一个元素 ====================\n",
      "None\n",
      "0    hello pd.Series\n",
      "1                  1\n",
      "2                  5\n",
      "3                NaN\n",
      "4          happy End\n",
      "5           new_item\n",
      "dtype: object\n",
      "==================== 合并两个series并忽略index ====================\n",
      "None\n",
      "A    hello pd.Series\n",
      "b                  1\n",
      "6                  5\n",
      "5                NaN\n",
      "4          happy End\n",
      "A              start\n",
      "b                  1\n",
      "6                  5\n",
      "5                NaN\n",
      "4                End\n",
      "Name: HelloSeries, dtype: object\n",
      "==================== 忽略index,你会发现两个同名index ====================\n",
      "None\n",
      "A    hello pd.Series\n",
      "A              start\n",
      "Name: HelloSeries, dtype: object\n",
      "==================== 合并两个series并重设index ====================\n",
      "None\n",
      "0    hello pd.Series\n",
      "1                  1\n",
      "2                  5\n",
      "3                NaN\n",
      "4          happy End\n",
      "5              start\n",
      "6                  1\n",
      "7                  5\n",
      "8                NaN\n",
      "9                End\n",
      "Name: HelloSeries, dtype: object\n"
     ]
    }
   ],
   "source": [
    "series_1 = pd.Series(['hello pd.Series', 1, 5, np.nan, 'happy End'], index=[\n",
    "    'A', 'b', '6', '5', '4'], name='HelloSeries')\n",
    "series_2 = pd.Series(['start', 1, 5, np.nan, 'End'], index=[\n",
    "    'A', 'b', '6', '5', '4'], name='HelloSeries')\n",
    "\n",
    "print('='*30, '原Series_1', '='*30)\n",
    "print(series_1)\n",
    "print('='*30, '原Series_2', '='*30)\n",
    "print(series_2)\n",
    "\n",
    "# 使用append（）函数，给Series_1添加一个新元素:一个元素也要改成Series类型哦！\n",
    "print(print('='*20, '原Series_1添加一个元素', '='*20))\n",
    "print(series_1.append(pd.Series('new_item'), ignore_index=True))\n",
    "\n",
    "# append（）函数，拼接两个Series，并忽略index\n",
    "print(print('='*20, '合并两个series并忽略index', '='*20))\n",
    "print(series_1.append(series_2,ignore_index=False))\n",
    "\n",
    "print(print('='*20, '忽略index,你会发现两个同名index', '='*20))\n",
    "print(series_1.append(series_2,ignore_index=False).loc['A'])\n",
    "\n",
    "# append（）函数，拼接两个Series，并重设index\n",
    "print(print('='*20, '合并两个series并重设index', '='*20))\n",
    "print(series_1.append(series_2,ignore_index=True))"
   ]
  },
  {
   "cell_type": "code",
   "execution_count": 63,
   "id": "81a4dce6",
   "metadata": {},
   "outputs": [
    {
     "name": "stdout",
     "output_type": "stream",
     "text": [
      "============================== 原Series_1 ==============================\n",
      "A    hello pd.Series\n",
      "b                  1\n",
      "6                  5\n",
      "5                NaN\n",
      "4          happy End\n",
      "Name: HelloSeries, dtype: object\n",
      "========== 使用update函数更新 ==========\n",
      "A          ooo\n",
      "b            1\n",
      "6          ccc\n",
      "5          NaN\n",
      "4    happy End\n",
      "Name: HelloSeries, dtype: object\n"
     ]
    }
   ],
   "source": [
    "series_1 = pd.Series(['hello pd.Series', 1, 5, np.nan, 'happy End'], index=[\n",
    "                   'A', 'b', '6', '5','4'], name='HelloSeries')\n",
    "print('='*30,'原Series_1','='*30)\n",
    "print(series_1)\n",
    "\n",
    "# update更新\n",
    "print('='*10,'使用update函数更新','='*10)\n",
    "series_1.update(pd.Series(['ooo','ccc'],index=['A','6']))\n",
    "print(series_1)"
   ]
  },
  {
   "cell_type": "code",
   "execution_count": 3,
   "id": "ba9c54fe",
   "metadata": {},
   "outputs": [
    {
     "name": "stdout",
     "output_type": "stream",
     "text": [
      "============================== 某数据集标签 ==============================\n",
      "0    negative\n",
      "1    positive\n",
      "2    positive\n",
      "3    positive\n",
      "4    negative\n",
      "5    positive\n",
      "6    positive\n",
      "7    negative\n",
      "Name: labels, dtype: object\n",
      "============================== 经过字典映射后 ==============================\n",
      "0    0\n",
      "1    1\n",
      "2    1\n",
      "3    1\n",
      "4    0\n",
      "5    1\n",
      "6    1\n",
      "7    0\n",
      "Name: labels, dtype: int64\n"
     ]
    }
   ],
   "source": [
    "import pandas as pd\n",
    "import numpy as np\n",
    "\n",
    "label = pd.Series(['negative', 'positive',  'positive',  'positive',\n",
    "                  'negative', 'positive', 'positive', 'negative'], name='labels')\n",
    "print('='*30, '某数据集标签', '='*30)\n",
    "print(label)\n",
    "\n",
    "dict = {'negative':0,'positive':1}\n",
    "print('='*30, '经过字典映射后', '='*30)\n",
    "label = label.map(dict)\n",
    "print(label)"
   ]
  },
  {
   "cell_type": "code",
   "execution_count": 23,
   "id": "78513c6e",
   "metadata": {},
   "outputs": [
    {
     "name": "stdout",
     "output_type": "stream",
     "text": [
      "============================== 按照Series分组 ==============================\n",
      "a    7.75\n",
      "b    5.50\n",
      "dtype: float64\n",
      "============================== 按照index分组 ==============================\n",
      "negative    6\n",
      "positive    7\n",
      "dtype: int64\n",
      "============================== 按照条件分组 ==============================\n",
      "False    4.0\n",
      "True     8.2\n",
      "dtype: float64\n",
      "============================== 原数据 ==============================\n",
      "color  animal\n",
      "white  cat       3.0\n",
      "       dog       4.6\n",
      "black  dog       6.4\n",
      "       cat       3.0\n",
      "dtype: float64\n",
      "============================== 按二级index颜色进行分组 ==============================\n",
      "animal\n",
      "cat    3.0\n",
      "dog    5.5\n",
      "dtype: float64\n"
     ]
    }
   ],
   "source": [
    "series = pd.Series([10, 8, 9, 4, 4, 6, 8, 4],\n",
    "                   index=['negative', 'positive',  'positive',  'positive',\n",
    "                          'negative', 'positive', 'positive', 'negative'])\n",
    "\n",
    "print('='*30, '按照Series分组', '='*30)\n",
    "# 后面.mean()是分组后，按照组内求均值（每一个组的均值）\n",
    "print(series.groupby([\"a\", \"b\", \"a\", \"b\",\"a\", \"b\", \"a\", \"b\"]).mean())\n",
    "\n",
    "print('='*30, '按照index分组', '='*30)\n",
    "print(series.groupby(level = 0).mean())\n",
    "\n",
    "print('='*30, '按照条件分组', '='*30) \n",
    "# 条件是大于5或者小于5\n",
    "print(series.groupby(series>5).mean())\n",
    "\n",
    "# 如果有两级index呢？:比如，黑色的小猫的体重是3kg，黑色的小狗体重是8kg，那么体重对应的标签就有两个：白色和小猫。\n",
    "index_array = [['white', 'white', 'black', 'black'],\n",
    "          ['cat', 'dog', 'dog', 'cat']]\n",
    "weight = pd.Series([3.0,4.6,6.4,3.0],index = pd.MultiIndex.from_arrays(index_array, names=('color', 'animal')))\n",
    "\n",
    "print('='*30, '原数据', '='*30) \n",
    "print(weight)\n",
    "print('='*30, '按二级index颜色进行分组', '='*30) \n",
    "print(weight.groupby(level='animal').mean())"
   ]
  },
  {
   "cell_type": "code",
   "execution_count": 42,
   "id": "bbe8b427",
   "metadata": {},
   "outputs": [
    {
     "name": "stdout",
     "output_type": "stream",
     "text": [
      "============================== 原数据 ==============================\n",
      "datetime\n",
      "2021-11-22    30\n",
      "2021-11-23    25\n",
      "2021-11-24    40\n",
      "2021-11-25    35\n",
      "2021-11-26    45\n",
      "2021-11-27    30\n",
      "2021-11-28    60\n",
      "Name: sport time, dtype: int64\n",
      "=============== 三天内运动总时间,window=int ===============\n",
      "datetime\n",
      "2021-11-22      NaN\n",
      "2021-11-23      NaN\n",
      "2021-11-24     95.0\n",
      "2021-11-25    100.0\n",
      "2021-11-26    120.0\n",
      "2021-11-27    110.0\n",
      "2021-11-28    135.0\n",
      "Name: sport time, dtype: float64\n",
      "=============== 三天内运动总时间,window=int，min_periods=2 ===============\n",
      "datetime\n",
      "2021-11-22      NaN\n",
      "2021-11-23     55.0\n",
      "2021-11-24     95.0\n",
      "2021-11-25    100.0\n",
      "2021-11-26    120.0\n",
      "2021-11-27    110.0\n",
      "2021-11-28    135.0\n",
      "Name: sport time, dtype: float64\n",
      "=============== 三天内运动总时间,window=int，center=True ===============\n",
      "datetime\n",
      "2021-11-22      NaN\n",
      "2021-11-23     95.0\n",
      "2021-11-24    100.0\n",
      "2021-11-25    120.0\n",
      "2021-11-26    110.0\n",
      "2021-11-27    135.0\n",
      "2021-11-28      NaN\n",
      "Name: sport time, dtype: float64\n",
      "=============== 三天内运动总时间,window=offset ===============\n",
      "datetime\n",
      "2021-11-22     30.0\n",
      "2021-11-23     55.0\n",
      "2021-11-24     95.0\n",
      "2021-11-25    100.0\n",
      "2021-11-26    120.0\n",
      "2021-11-27    110.0\n",
      "2021-11-28    135.0\n",
      "Name: sport time, dtype: float64\n"
     ]
    }
   ],
   "source": [
    "# 这是某人一周的运动时间，单位是分钟，一天记录一次\n",
    "series = pd.Series([30, 25, 40, 35, 45, 30, 60],name = 'sport time')\n",
    "# index设置为时间戳\n",
    "index = pd.DatetimeIndex(['2021-11-22','2021-11-23','2021-11-24','2021-11-25','2021-11-26','2021-11-27','2021-11-28'],name = 'datetime')\n",
    "series.index = index\n",
    "print('='*30, '原数据', '='*30) \n",
    "print(series)\n",
    "\n",
    "# 按照时间窗口为3进行滑动，并求和三天内运动总时间,window = int\n",
    "print('='*15, '三天内运动总时间,window=int', '='*15) \n",
    "print(series.rolling(3).sum())\n",
    "\n",
    "print('='*15, '三天内运动总时间,window=int，min_periods=2', '='*15) \n",
    "print(series.rolling(3,min_periods=2).sum())\n",
    "\n",
    "print('='*15, '三天内运动总时间,window=int，center=True', '='*15) \n",
    "print(series.rolling(3,center=True).sum())\n",
    "\n",
    "# 按照时间窗口为3进行滑动，并求和三天内运动总时间,window = offset.(在时间戳上3D，表示3天，还可以30S、3H)\n",
    "print('='*15, '三天内运动总时间,window=offset', '='*15) \n",
    "print(series.rolling('3D').sum())"
   ]
  },
  {
   "cell_type": "code",
   "execution_count": 57,
   "id": "52cc9d88",
   "metadata": {},
   "outputs": [
    {
     "name": "stdout",
     "output_type": "stream",
     "text": [
      "========== 取交集 ==========\n",
      "0       0\n",
      "1    John\n",
      "2     100\n",
      "dtype: object\n",
      "========== 取并集 ==========\n",
      "0        0\n",
      "1        1\n",
      "2        2\n",
      "3        5\n",
      "4        6\n",
      "5     Jack\n",
      "6       小李\n",
      "7     John\n",
      "8      100\n",
      "9       -9\n",
      "10      小王\n",
      "11      -6\n",
      "12      -5\n",
      "dtype: object\n",
      "========== 取list1的补集 ==========\n",
      "0     1\n",
      "1     2\n",
      "2     5\n",
      "3     6\n",
      "4    小王\n",
      "dtype: object\n"
     ]
    }
   ],
   "source": [
    "list1 = [0, 1, 2, 5, 6, 6,'小王', 'John', '100']\n",
    "list2 = [0, -9, -5, -6, -9,'小李', 'John', 'Jack', '100']\n",
    "\n",
    "list1 = set(list1)\n",
    "list2 = set(list2)\n",
    "\n",
    "# 交集\n",
    "print('='*10, '取交集', '='*10)\n",
    "# 两个Series合并，并取出重复元素即可\n",
    "Intersection = pd.Series(list(list1.intersection(list2)))\n",
    "print(Intersection)\n",
    "\n",
    "# 并集\n",
    "print('='*10, '取并集', '='*10)\n",
    "## 两个Series合并，再去除重复元素即可\n",
    "union = pd.Series(list(list1.union(list2)))\n",
    "print(union)\n",
    "\n",
    "# 补集\n",
    "print('='*10, '取list1的补集', '='*10)\n",
    "## list1的补集就是list2-交集\n",
    "print(pd.Series(list(list1.difference(list2))))\n"
   ]
  },
  {
   "cell_type": "code",
   "execution_count": 61,
   "id": "9460f49e",
   "metadata": {},
   "outputs": [
    {
     "name": "stdout",
     "output_type": "stream",
     "text": [
      "positive    8\n",
      "positive    9\n",
      "positive    4\n",
      "positive    6\n",
      "positive    8\n",
      "dtype: int64\n"
     ]
    }
   ],
   "source": [
    "series = pd.Series([10, 8, 9, 4, 4, 6, 8, 4],\n",
    "                   index=['negative', 'positive',  'positive',  'positive',\n",
    "                          'negative', 'positive', 'positive', 'negative'])\n",
    "print(series.drop(['negative']))\n",
    "# print(series)"
   ]
  }
 ],
 "metadata": {
  "kernelspec": {
   "display_name": "Python 3",
   "language": "python",
   "name": "python3"
  },
  "language_info": {
   "codemirror_mode": {
    "name": "ipython",
    "version": 3
   },
   "file_extension": ".py",
   "mimetype": "text/x-python",
   "name": "python",
   "nbconvert_exporter": "python",
   "pygments_lexer": "ipython3",
   "version": "3.8.8"
  }
 },
 "nbformat": 4,
 "nbformat_minor": 5
}
