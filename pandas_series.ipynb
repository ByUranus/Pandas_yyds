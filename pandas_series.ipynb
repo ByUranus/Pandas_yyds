{
 "cells": [
  {
   "cell_type": "code",
   "execution_count": 2,
   "id": "964d2edf",
   "metadata": {},
   "outputs": [],
   "source": [
    "import pandas as pd\n",
    "import numpy as np"
   ]
  },
  {
   "cell_type": "code",
   "execution_count": 48,
   "id": "e5f75b6a",
   "metadata": {},
   "outputs": [
    {
     "name": "stdout",
     "output_type": "stream",
     "text": [
      "name: series_1\n",
      "======================================================================\n",
      "index: Index(['A', '1', '2', 'B', '3', 'C', '4', 'D'], dtype='object')\n",
      "dtpyes: object\n",
      "======================================================================\n",
      "series_1最后的数： [6, 7, 8]\n",
      "index为D的数： [6, 7, 8]\n",
      "======================================================================\n",
      "series_1的值： [1 2 3 nan 5 nan 'hello series' list([6, 7, 8])]\n",
      "======================================================================\n"
     ]
    }
   ],
   "source": [
    "series_1 = pd.Series([1,2,3,np.nan,5,np.nan,'hello series',[6,7,8]],name = 'series_1',index = ['A','1','2','B','3','C','4','D'])\n",
    "print('name:',series_1.name)\n",
    "print('='*70)\n",
    "print('index:',series_1.index)\n",
    "print('dtpyes:',series_1.dtypes)\n",
    "print('='*70)\n",
    "print('series_1最后的数：',series_1[7])\n",
    "print('index为D的数：',series_1['D'])\n",
    "print('='*70)\n",
    "print('series_1的值：',series_1.values)\n",
    "print('='*70)"
   ]
  },
  {
   "cell_type": "code",
   "execution_count": 63,
   "id": "6a24118c",
   "metadata": {},
   "outputs": [
    {
     "name": "stdout",
     "output_type": "stream",
     "text": [
      "series_1的index为：Index(['A', '1', '2', 'B', '3', 'C', '4', 'D'], dtype='object')\n",
      "A    1\n",
      "3    5\n",
      "Name: series_1, dtype: object\n",
      "======================================================================\n",
      "A      1\n",
      "1      2\n",
      "B    NaN\n",
      "Name: series_1, dtype: object\n",
      "======================================================================\n"
     ]
    }
   ],
   "source": [
    "series_1 = pd.Series([1, 2, 3, np.nan, 5, np.nan, 'hello series', [\n",
    "                     6, 7, 8]], name='series_1', index=['A', '1', '2', 'B', '3', 'C', '4', 'D'])\n",
    "print('series_1的index为：{}'.format(series_1.index))\n",
    "\n",
    "# 直接按照index索引:为什么有两个方括号？\n",
    "print(series_1[['A', '3']])\n",
    "print('='*70)\n",
    "\n",
    "# 按照行的概念进行索引，可以将series看成一个多行一列的数组（因为多个列可以组成DataFrame）。\n",
    "print(series_1[[0, 1, 3]])\n",
    "print('='*70)"
   ]
  },
  {
   "cell_type": "code",
   "execution_count": 126,
   "id": "c1014fd0",
   "metadata": {},
   "outputs": [
    {
     "name": "stdout",
     "output_type": "stream",
     "text": [
      "Index(['A', '1', '2', 'B', '3', 'C', '4', 'D'], dtype='object')\n",
      "======================================================================\n",
      "Index(['A', 'B', 'C', 'D', 'E', 'F', 'G', 'H'], dtype='object')\n",
      "======================================================================\n",
      "Int64Index([0, 1, 2, 3, 4, 5, 6, 7], dtype='int64', name='index_int')\n",
      "======================================================================\n",
      "RangeIndex(start=0, stop=8, step=1)\n",
      "======================================================================\n",
      "   index_int      series_1\n",
      "0          0             1\n",
      "1          1             2\n",
      "2          2             3\n",
      "3          3           NaN\n",
      "4          4             5\n",
      "5          5           NaN\n",
      "6          6  hello series\n",
      "7          7     [6, 7, 8]\n",
      "======================================================================\n",
      "0    0\n",
      "1    1\n",
      "2    2\n",
      "3    3\n",
      "4    4\n",
      "5    5\n",
      "6    6\n",
      "7    7\n",
      "Name: index_int, dtype: int64\n"
     ]
    }
   ],
   "source": [
    "series_1 = pd.Series([1, 2, 3, np.nan, 5, np.nan, 'hello series', [\n",
    "                     6, 7, 8]], name='series_1', index=['A', '1', '2', 'B', '3', 'C', '4', 'D'])\n",
    "print(series_1.index)\n",
    "print('='*70)\n",
    "\n",
    "# 更新索引\n",
    "series_1.index = ['A', 'B', 'C', 'D', 'E', 'F', 'G', 'H']\n",
    "print(series_1.index)\n",
    "print('='*70)\n",
    "\n",
    "# 使用pd.Index()管理series的索引\n",
    "x = pd.Index([0, 1, 2, 3, 4, 5, 6, 7], name='index_int')\n",
    "series_1.index = x\n",
    "print(series_1.index)\n",
    "print('='*70)\n",
    "\n",
    "# 重置index\n",
    "series_1 = series_1.reset_index()\n",
    "print(series_1.index)\n",
    "print('='*70)\n",
    "# 可以看出新的series_1已经重置了index，并且之前的index（名字为index_int）成为了一个新的列。\n",
    "print(series_1)\n",
    "print('='*70)\n",
    "print(series_1['index_int'])"
   ]
  },
  {
   "cell_type": "code",
   "execution_count": 90,
   "id": "6f3311bd",
   "metadata": {},
   "outputs": [
    {
     "name": "stdout",
     "output_type": "stream",
     "text": [
      "======================================================================\n",
      "Index为D的数： hello series\n",
      "======================================================================\n",
      "行数为0，1，2的数：\n",
      " A    1\n",
      "1    2\n",
      "2    3\n",
      "Name: series_1, dtype: object\n",
      "======================================================================\n",
      "Index为A、B、4的数：\n",
      " A               1\n",
      "B             NaN\n",
      "4    hello series\n",
      "Name: series_1, dtype: object\n",
      "======================================================================\n",
      "A               1\n",
      "B             NaN\n",
      "4    hello series\n",
      "Name: series_1, dtype: object\n",
      "======================================================================\n"
     ]
    }
   ],
   "source": [
    "series_1 = pd.Series([1, 2, 3, np.nan, 5, np.nan, 'hello series', [\n",
    "                     6, 7, 8]], name='series_1', index=['A', '1', '2', 'B', '3', 'C', '4', 'D'])\n",
    "# print('series_1为：\\n', series_1)\n",
    "print('='*70)\n",
    "\n",
    "# 只索引单个值\n",
    "print('Index为D的数：', series_1.at['4'])\n",
    "print('='*70)\n",
    "\n",
    "# iloc索引多个值:仅能传入数字（如果传入index会报错）\n",
    "print('行数为0，1，2的数：\\n', series_1.iloc[[0, 1, 2]])\n",
    "print('='*70)\n",
    "\n",
    "# loc索引多个值：传入index，index可以不是数字\n",
    "print('Index为A、B、4的数：\\n', series_1.loc[['A', 'B', '4']])\n",
    "print('='*70)\n",
    "\n",
    "# get索引多个值：传入index\n",
    "print(series_1.get(['A','B','4']))\n",
    "print('='*70)"
   ]
  },
  {
   "cell_type": "code",
   "execution_count": 157,
   "id": "ddcf5a02",
   "metadata": {},
   "outputs": [
    {
     "name": "stdout",
     "output_type": "stream",
     "text": [
      "0      1\n",
      "1      2\n",
      "2      3\n",
      "3    NaN\n",
      "4      5\n",
      "Name: series_1, dtype: object\n",
      "======================================================================\n",
      "3    NaN\n",
      "5    NaN\n",
      "Name: series_1, dtype: object\n",
      "======================================================================\n",
      "原序列中为int类型的元素为：\n",
      " 0    1\n",
      "1    2\n",
      "2    3\n",
      "4    5\n",
      "Name: series_1, dtype: object\n",
      "======================================================================\n",
      "6    hello series\n",
      "Name: series_1, dtype: object\n",
      "======================================================================\n",
      "6    hello series\n",
      "Name: series_1, dtype: object\n"
     ]
    }
   ],
   "source": [
    "series_1 = pd.Series([1, 2, 3, np.nan, 5, np.nan, 'hello series', [\n",
    "                     6, 7, 8]], name='series_1', index=[0, 1, 2, 3, 4, 5, 6, 7])\n",
    "\n",
    "# 为了方便和减少出错，我们可以先定义条件\n",
    "\n",
    "# 查询值index 小于5的数\n",
    "condition = series_1.index < 5\n",
    "print(series_1.loc[condition])\n",
    "print('='*70)\n",
    "\n",
    "# 查询缺失值的index，注意isnull()函数返回的布尔值。True or False\n",
    "index_null = series_1.isnull()\n",
    "condition = []\n",
    "\n",
    "# 先记录nan值的index，再按照index索引\n",
    "for i in range(len(index_null)):\n",
    "    if index_null.iloc[i] == True:\n",
    "        condition.append(i)\n",
    "print(series_1.loc[condition])\n",
    "print('='*70)\n",
    "\n",
    "# 按照数据类型返回index：例如，返回float类型的数\n",
    "index_type = int\n",
    "condition = []\n",
    "for i in range(series_1.size):\n",
    "    if type(series_1.iloc[i]) == index_type:\n",
    "        condition.append(i)\n",
    "    else:\n",
    "        pass\n",
    "    \n",
    "print('原序列中为int类型的元素为：\\n',series_1.loc[condition])\n",
    "print('='*70)\n",
    "\n",
    "# 查询字符串中是否包含某个字符，例如后面的hello中包含了h\n",
    "# 两种方法：一种使用Serise.str.contains('h')或者使用 in \n",
    "\n",
    "## 法一：\n",
    "index_type = series_1.str.contains('h')\n",
    "condition = []\n",
    "for i in range(series_1.size):\n",
    "    if index_type.loc[i] == True:\n",
    "        condition.append(i)\n",
    "print(series_1.iloc[condition])\n",
    "print('='*70)\n",
    "## 法二：\n",
    "condition = []\n",
    "for i in range(series_1.size):\n",
    "    if 'h' in str(series_1.iloc[i]):\n",
    "        condition.append(i)\n",
    "    else:\n",
    "        pass\n",
    "print(series_1.iloc[condition])"
   ]
  },
  {
   "cell_type": "code",
   "execution_count": 162,
   "id": "8200596a",
   "metadata": {},
   "outputs": [
    {
     "name": "stdout",
     "output_type": "stream",
     "text": [
      "A               1\n",
      "1               2\n",
      "2               3\n",
      "B             NaN\n",
      "3               5\n",
      "C             NaN\n",
      "4    hello series\n",
      "D       [6, 7, 8]\n",
      "Name: series_1, dtype: object\n",
      "======================================================================\n",
      "[1, 2, 3, nan, 5, nan, 'hello series', [6, 7, 8]]\n",
      "======================================================================\n",
      "[1, 2, 3, nan, 5, nan, 'hello series', [6, 7, 8]]\n",
      "======================================================================\n",
      "0               1\n",
      "1               2\n",
      "2               3\n",
      "3             NaN\n",
      "4               5\n",
      "5             NaN\n",
      "6    hello series\n",
      "7       [6, 7, 8]\n",
      "dtype: object\n"
     ]
    }
   ],
   "source": [
    "series_1 = pd.Series([1, 2, 3, np.nan, 5, np.nan, 'hello series', [\n",
    "                     6, 7, 8]], name='series_1', index=['A', '1', '2', 'B', '3', 'C', '4', 'D'])\n",
    "list_1 = [1, 2, 3, np.nan, 5, np.nan, 'hello series', [\n",
    "                     6, 7, 8]]\n",
    "print(series_1)\n",
    "print('='*70)\n",
    "print(list_1)\n",
    "print('='*70)\n",
    "# series to list\n",
    "print(series_1.to_list())\n",
    "print('='*70)\n",
    "# list to series\n",
    "print(pd.Series(list_1))"
   ]
  }
 ],
 "metadata": {
  "kernelspec": {
   "display_name": "Python 3",
   "language": "python",
   "name": "python3"
  },
  "language_info": {
   "codemirror_mode": {
    "name": "ipython",
    "version": 3
   },
   "file_extension": ".py",
   "mimetype": "text/x-python",
   "name": "python",
   "nbconvert_exporter": "python",
   "pygments_lexer": "ipython3",
   "version": "3.8.8"
  }
 },
 "nbformat": 4,
 "nbformat_minor": 5
}
